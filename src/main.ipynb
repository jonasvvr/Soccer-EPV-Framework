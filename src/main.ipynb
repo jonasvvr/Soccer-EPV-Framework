{
 "cells": [
  {
   "cell_type": "code",
   "execution_count": 1,
   "metadata": {},
   "outputs": [],
   "source": [
    "sys.path.insert(1, os.path.abspath('/Users/jonasvvr/Documents/KULeuven/thesis/Soccer-EPV-Framework/LaurieOnTracking/'))"
   ]
  },
  {
   "cell_type": "code",
   "execution_count": 2,
   "metadata": {},
   "outputs": [],
   "source": [
    "import data_handler as dh\n",
    "import visualization as viz\n",
    "import pandas as pd\n",
    "import Metrica_Viz as mviz"
   ]
  },
  {
   "cell_type": "code",
   "execution_count": 3,
   "metadata": {},
   "outputs": [],
   "source": [
    "DATA_DIR_single = '../bru_data/data/comp-4zwgbb66rif2spcoeeol2motx/tmcl-1qtpbdbeudho5i7fu5z2lp2j8/fx-4sekj9hgwxzq3y4ih9415239w'\n",
    "DATA_DIR = '../bru_data/data/comp-4zwgbb66rif2spcoeeol2motx/tmcl-1qtpbdbeudho5i7fu5z2lp2j8'\n",
    "\n",
    "event_data_single = dh.read_event_data(DATA_DIR_single)\n",
    "# event_data = dh.read_dir_event_data(DATA_DIR)"
   ]
  },
  {
   "cell_type": "code",
   "execution_count": 4,
   "metadata": {},
   "outputs": [
    {
     "data": {
      "text/plain": [
       "(1749, 11)"
      ]
     },
     "execution_count": 4,
     "metadata": {},
     "output_type": "execute_result"
    }
   ],
   "source": [
    "event_data_single.shape"
   ]
  },
  {
   "cell_type": "code",
   "execution_count": 5,
   "metadata": {},
   "outputs": [
    {
     "data": {
      "text/plain": [
       "(<Figure size 1200x800 with 1 Axes>, <AxesSubplot: >)"
      ]
     },
     "execution_count": 5,
     "metadata": {},
     "output_type": "execute_result"
    },
    {
     "data": {
      "image/png": "[encoded data removed]",
      "text/plain": [
       "<Figure size 1200x800 with 1 Axes>"
      ]
     },
     "metadata": {},
     "output_type": "display_data"
    }
   ],
   "source": [
    "viz.plot_events(event_data_single.loc[10000:10020], mviz.plot_pitch)"
   ]
  },
  {
   "cell_type": "code",
   "execution_count": 6,
   "metadata": {},
   "outputs": [],
   "source": [
    "tracking = dh.read_tracking_data_single(DATA_DIR_single)"
   ]
  },
  {
   "cell_type": "code",
   "execution_count": 7,
   "metadata": {},
   "outputs": [
    {
     "data": {
      "text/html": [
       "<div>\n",
       "<style scoped>\n",
       "    .dataframe tbody tr th:only-of-type {\n",
       "        vertical-align: middle;\n",
       "    }\n",
       "\n",
       "    .dataframe tbody tr th {\n",
       "        vertical-align: top;\n",
       "    }\n",
       "\n",
       "    .dataframe thead th {\n",
       "        text-align: right;\n",
       "    }\n",
       "</style>\n",
       "<table border=\"1\" class=\"dataframe\">\n",
       "  <thead>\n",
       "    <tr style=\"text-align: right;\">\n",
       "      <th></th>\n",
       "      <th>Framecount</th>\n",
       "      <th>Match period</th>\n",
       "      <th>Match status</th>\n",
       "      <th>column 5</th>\n",
       "      <th>Ball xyz</th>\n",
       "    </tr>\n",
       "  </thead>\n",
       "  <tbody>\n",
       "    <tr>\n",
       "      <th>0</th>\n",
       "      <td>0</td>\n",
       "      <td>1</td>\n",
       "      <td>0</td>\n",
       "      <td>[[0, 13d7ao0j091449ia61cuut87p, 26, 52.564, 31...</td>\n",
       "      <td>[52.4, 32.93, 0]</td>\n",
       "    </tr>\n",
       "    <tr>\n",
       "      <th>1</th>\n",
       "      <td>40</td>\n",
       "      <td>1</td>\n",
       "      <td>0</td>\n",
       "      <td>[[0, 13d7ao0j091449ia61cuut87p, 26, 52.554, 31...</td>\n",
       "      <td>[52.42, 32.82, 0]</td>\n",
       "    </tr>\n",
       "    <tr>\n",
       "      <th>2</th>\n",
       "      <td>80</td>\n",
       "      <td>1</td>\n",
       "      <td>0</td>\n",
       "      <td>[[0, 13d7ao0j091449ia61cuut87p, 26, 52.544, 31...</td>\n",
       "      <td>[52.44, 32.72, 0]</td>\n",
       "    </tr>\n",
       "    <tr>\n",
       "      <th>3</th>\n",
       "      <td>120</td>\n",
       "      <td>1</td>\n",
       "      <td>0</td>\n",
       "      <td>[[0, 13d7ao0j091449ia61cuut87p, 26, 52.533, 31...</td>\n",
       "      <td>[52.46, 32.61, 0]</td>\n",
       "    </tr>\n",
       "    <tr>\n",
       "      <th>4</th>\n",
       "      <td>160</td>\n",
       "      <td>1</td>\n",
       "      <td>0</td>\n",
       "      <td>[[0, 13d7ao0j091449ia61cuut87p, 26, 52.523, 31...</td>\n",
       "      <td>[52.48, 32.51, 0]</td>\n",
       "    </tr>\n",
       "    <tr>\n",
       "      <th>...</th>\n",
       "      <td>...</td>\n",
       "      <td>...</td>\n",
       "      <td>...</td>\n",
       "      <td>...</td>\n",
       "      <td>...</td>\n",
       "    </tr>\n",
       "    <tr>\n",
       "      <th>140677</th>\n",
       "      <td>2917880</td>\n",
       "      <td>2</td>\n",
       "      <td>0</td>\n",
       "      <td>[[0, 13d7ao0j091449ia61cuut87p, 26, 27.65, 41....</td>\n",
       "      <td>[8.82, 58.07, 0]</td>\n",
       "    </tr>\n",
       "    <tr>\n",
       "      <th>140678</th>\n",
       "      <td>2917920</td>\n",
       "      <td>2</td>\n",
       "      <td>0</td>\n",
       "      <td>[[0, 13d7ao0j091449ia61cuut87p, 26, 27.531, 41...</td>\n",
       "      <td>[8.65, 58.02, 0]</td>\n",
       "    </tr>\n",
       "    <tr>\n",
       "      <th>140679</th>\n",
       "      <td>2917960</td>\n",
       "      <td>2</td>\n",
       "      <td>0</td>\n",
       "      <td>[[0, 13d7ao0j091449ia61cuut87p, 26, 27.412, 41...</td>\n",
       "      <td>[8.49, 57.97, 0]</td>\n",
       "    </tr>\n",
       "    <tr>\n",
       "      <th>140680</th>\n",
       "      <td>2918000</td>\n",
       "      <td>2</td>\n",
       "      <td>0</td>\n",
       "      <td>[[0, 13d7ao0j091449ia61cuut87p, 26, 27.293, 41...</td>\n",
       "      <td>[8.26, 57.78, 0]</td>\n",
       "    </tr>\n",
       "    <tr>\n",
       "      <th>140681</th>\n",
       "      <td>2918040</td>\n",
       "      <td>2</td>\n",
       "      <td>0</td>\n",
       "      <td>[[0, 13d7ao0j091449ia61cuut87p, 26, 27.176, 41...</td>\n",
       "      <td>[8.03, 57.58, 0]</td>\n",
       "    </tr>\n",
       "  </tbody>\n",
       "</table>\n",
       "<p>140682 rows × 5 columns</p>\n",
       "</div>"
      ],
      "text/plain": [
       "       Framecount Match period Match status  \\\n",
       "0               0            1            0   \n",
       "1              40            1            0   \n",
       "2              80            1            0   \n",
       "3             120            1            0   \n",
       "4             160            1            0   \n",
       "...           ...          ...          ...   \n",
       "140677    2917880            2            0   \n",
       "140678    2917920            2            0   \n",
       "140679    2917960            2            0   \n",
       "140680    2918000            2            0   \n",
       "140681    2918040            2            0   \n",
       "\n",
       "                                                 column 5           Ball xyz  \n",
       "0       [[0, 13d7ao0j091449ia61cuut87p, 26, 52.564, 31...   [52.4, 32.93, 0]  \n",
       "1       [[0, 13d7ao0j091449ia61cuut87p, 26, 52.554, 31...  [52.42, 32.82, 0]  \n",
       "2       [[0, 13d7ao0j091449ia61cuut87p, 26, 52.544, 31...  [52.44, 32.72, 0]  \n",
       "3       [[0, 13d7ao0j091449ia61cuut87p, 26, 52.533, 31...  [52.46, 32.61, 0]  \n",
       "4       [[0, 13d7ao0j091449ia61cuut87p, 26, 52.523, 31...  [52.48, 32.51, 0]  \n",
       "...                                                   ...                ...  \n",
       "140677  [[0, 13d7ao0j091449ia61cuut87p, 26, 27.65, 41....   [8.82, 58.07, 0]  \n",
       "140678  [[0, 13d7ao0j091449ia61cuut87p, 26, 27.531, 41...   [8.65, 58.02, 0]  \n",
       "140679  [[0, 13d7ao0j091449ia61cuut87p, 26, 27.412, 41...   [8.49, 57.97, 0]  \n",
       "140680  [[0, 13d7ao0j091449ia61cuut87p, 26, 27.293, 41...   [8.26, 57.78, 0]  \n",
       "140681  [[0, 13d7ao0j091449ia61cuut87p, 26, 27.176, 41...   [8.03, 57.58, 0]  \n",
       "\n",
       "[140682 rows x 5 columns]"
      ]
     },
     "execution_count": 7,
     "metadata": {},
     "output_type": "execute_result"
    }
   ],
   "source": [
    "tracking"
   ]
  }
 ],
 "metadata": {
  "kernelspec": {
   "display_name": "Python 3.10.3 64-bit ('3.10.3')",
   "language": "python",
   "name": "python3"
  },
  "language_info": {
   "codemirror_mode": {
    "name": "ipython",
    "version": 3
   },
   "file_extension": ".py",
   "mimetype": "text/x-python",
   "name": "python",
   "nbconvert_exporter": "python",
   "pygments_lexer": "ipython3",
   "version": "3.10.3"
  },
  "orig_nbformat": 4,
  "vscode": {
   "interpreter": {
    "hash": "f8ce93ba127ce25426a46bd4a35f5ae187ffda733b6f9868eee817a380c94377"
   }
  }
 },
 "nbformat": 4,
 "nbformat_minor": 2
}
