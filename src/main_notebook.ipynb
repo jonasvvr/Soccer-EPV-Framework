{
 "cells": [
  {
   "cell_type": "code",
   "execution_count": 1,
   "metadata": {},
   "outputs": [],
   "source": [
    "import data_handler as dh\n",
    "import visualization as viz\n",
    "import spatial_features as spf\n",
    "import game_state_representation as gsr\n",
    "import pandas as pd"
   ]
  },
  {
   "cell_type": "code",
   "execution_count": 2,
   "metadata": {},
   "outputs": [],
   "source": [
    "FIELD_DIMEN = (110, 72)\n",
    "DATA_DIR_single = '../bru_data/data/comp-4zwgbb66rif2spcoeeol2motx/tmcl-1qtpbdbeudho5i7fu5z2lp2j8/fx-4sekj9hgwxzq3y4ih9415239w'\n",
    "DATA_DIR = '../bru_data/data/comp-4zwgbb66rif2spcoeeol2motx/tmcl-1qtpbdbeudho5i7fu5z2lp2j8'\n",
    "\n",
    "event_data_single = dh.read_event_data(DATA_DIR_single)\n",
    "# event_data = dh.read_dir_event_data(DATA_DIR)"
   ]
  },
  {
   "cell_type": "code",
   "execution_count": 3,
   "metadata": {},
   "outputs": [
    {
     "data": {
      "text/plain": "      typeId  periodId  timeMin  timeSec  outcome     x     y  \\\n0         34        16        0        0        1   0.0   0.0   \n1         34        16        0        0        1   0.0   0.0   \n2         32         1        0        0        1   0.0   0.0   \n3         32         1        0        0        1   0.0   0.0   \n4          1         1        0        0        1  50.7  49.1   \n...      ...       ...      ...      ...      ...   ...   ...   \n1744      30         2       93       46        1   0.0   0.0   \n1745      30        14        0        0        1   0.0   0.0   \n1746      37        14        0        0        1   0.0   0.0   \n1747      30        14        0        0        1   0.0   0.0   \n1748      37        14        0        0        1   0.0   0.0   \n\n                                              qualifier  \\\n0     [{'id': 3521403699, 'qualifierId': 59, 'value'...   \n1     [{'id': 3521407201, 'qualifierId': 30, 'value'...   \n2     [{'id': 3521547939, 'qualifierId': 127, 'value...   \n3     [{'id': 3521547937, 'qualifierId': 127, 'value...   \n4     [{'id': 3523515873, 'qualifierId': 213, 'value...   \n...                                                 ...   \n1744  [{'id': 3522028543, 'qualifierId': 57, 'value'...   \n1745  [{'id': 3522028863, 'qualifierId': 57, 'value'...   \n1746  [{'id': 3524800621, 'qualifierId': 406, 'value...   \n1747  [{'id': 3522035583, 'qualifierId': 209}, {'id'...   \n1748  [{'id': 3524198715, 'qualifierId': 229}, {'id'...   \n\n                      playerId  playerName  keyPass  assist  \n0                          NaN         NaN      NaN     NaN  \n1                          NaN         NaN      NaN     NaN  \n2                          NaN         NaN      NaN     NaN  \n3                          NaN         NaN      NaN     NaN  \n4     x3g0yyxs0j4o8fxphxtf0st1  H. Vanaken      NaN     NaN  \n...                        ...         ...      ...     ...  \n1744                       NaN         NaN      NaN     NaN  \n1745                       NaN         NaN      NaN     NaN  \n1746                       NaN         NaN      NaN     NaN  \n1747                       NaN         NaN      NaN     NaN  \n1748                       NaN         NaN      NaN     NaN  \n\n[1749 rows x 12 columns]",
      "text/html": "<div>\n<style scoped>\n    .dataframe tbody tr th:only-of-type {\n        vertical-align: middle;\n    }\n\n    .dataframe tbody tr th {\n        vertical-align: top;\n    }\n\n    .dataframe thead th {\n        text-align: right;\n    }\n</style>\n<table border=\"1\" class=\"dataframe\">\n  <thead>\n    <tr style=\"text-align: right;\">\n      <th></th>\n      <th>typeId</th>\n      <th>periodId</th>\n      <th>timeMin</th>\n      <th>timeSec</th>\n      <th>outcome</th>\n      <th>x</th>\n      <th>y</th>\n      <th>qualifier</th>\n      <th>playerId</th>\n      <th>playerName</th>\n      <th>keyPass</th>\n      <th>assist</th>\n    </tr>\n  </thead>\n  <tbody>\n    <tr>\n      <th>0</th>\n      <td>34</td>\n      <td>16</td>\n      <td>0</td>\n      <td>0</td>\n      <td>1</td>\n      <td>0.0</td>\n      <td>0.0</td>\n      <td>[{'id': 3521403699, 'qualifierId': 59, 'value'...</td>\n      <td>NaN</td>\n      <td>NaN</td>\n      <td>NaN</td>\n      <td>NaN</td>\n    </tr>\n    <tr>\n      <th>1</th>\n      <td>34</td>\n      <td>16</td>\n      <td>0</td>\n      <td>0</td>\n      <td>1</td>\n      <td>0.0</td>\n      <td>0.0</td>\n      <td>[{'id': 3521407201, 'qualifierId': 30, 'value'...</td>\n      <td>NaN</td>\n      <td>NaN</td>\n      <td>NaN</td>\n      <td>NaN</td>\n    </tr>\n    <tr>\n      <th>2</th>\n      <td>32</td>\n      <td>1</td>\n      <td>0</td>\n      <td>0</td>\n      <td>1</td>\n      <td>0.0</td>\n      <td>0.0</td>\n      <td>[{'id': 3521547939, 'qualifierId': 127, 'value...</td>\n      <td>NaN</td>\n      <td>NaN</td>\n      <td>NaN</td>\n      <td>NaN</td>\n    </tr>\n    <tr>\n      <th>3</th>\n      <td>32</td>\n      <td>1</td>\n      <td>0</td>\n      <td>0</td>\n      <td>1</td>\n      <td>0.0</td>\n      <td>0.0</td>\n      <td>[{'id': 3521547937, 'qualifierId': 127, 'value...</td>\n      <td>NaN</td>\n      <td>NaN</td>\n      <td>NaN</td>\n      <td>NaN</td>\n    </tr>\n    <tr>\n      <th>4</th>\n      <td>1</td>\n      <td>1</td>\n      <td>0</td>\n      <td>0</td>\n      <td>1</td>\n      <td>50.7</td>\n      <td>49.1</td>\n      <td>[{'id': 3523515873, 'qualifierId': 213, 'value...</td>\n      <td>x3g0yyxs0j4o8fxphxtf0st1</td>\n      <td>H. Vanaken</td>\n      <td>NaN</td>\n      <td>NaN</td>\n    </tr>\n    <tr>\n      <th>...</th>\n      <td>...</td>\n      <td>...</td>\n      <td>...</td>\n      <td>...</td>\n      <td>...</td>\n      <td>...</td>\n      <td>...</td>\n      <td>...</td>\n      <td>...</td>\n      <td>...</td>\n      <td>...</td>\n      <td>...</td>\n    </tr>\n    <tr>\n      <th>1744</th>\n      <td>30</td>\n      <td>2</td>\n      <td>93</td>\n      <td>46</td>\n      <td>1</td>\n      <td>0.0</td>\n      <td>0.0</td>\n      <td>[{'id': 3522028543, 'qualifierId': 57, 'value'...</td>\n      <td>NaN</td>\n      <td>NaN</td>\n      <td>NaN</td>\n      <td>NaN</td>\n    </tr>\n    <tr>\n      <th>1745</th>\n      <td>30</td>\n      <td>14</td>\n      <td>0</td>\n      <td>0</td>\n      <td>1</td>\n      <td>0.0</td>\n      <td>0.0</td>\n      <td>[{'id': 3522028863, 'qualifierId': 57, 'value'...</td>\n      <td>NaN</td>\n      <td>NaN</td>\n      <td>NaN</td>\n      <td>NaN</td>\n    </tr>\n    <tr>\n      <th>1746</th>\n      <td>37</td>\n      <td>14</td>\n      <td>0</td>\n      <td>0</td>\n      <td>1</td>\n      <td>0.0</td>\n      <td>0.0</td>\n      <td>[{'id': 3524800621, 'qualifierId': 406, 'value...</td>\n      <td>NaN</td>\n      <td>NaN</td>\n      <td>NaN</td>\n      <td>NaN</td>\n    </tr>\n    <tr>\n      <th>1747</th>\n      <td>30</td>\n      <td>14</td>\n      <td>0</td>\n      <td>0</td>\n      <td>1</td>\n      <td>0.0</td>\n      <td>0.0</td>\n      <td>[{'id': 3522035583, 'qualifierId': 209}, {'id'...</td>\n      <td>NaN</td>\n      <td>NaN</td>\n      <td>NaN</td>\n      <td>NaN</td>\n    </tr>\n    <tr>\n      <th>1748</th>\n      <td>37</td>\n      <td>14</td>\n      <td>0</td>\n      <td>0</td>\n      <td>1</td>\n      <td>0.0</td>\n      <td>0.0</td>\n      <td>[{'id': 3524198715, 'qualifierId': 229}, {'id'...</td>\n      <td>NaN</td>\n      <td>NaN</td>\n      <td>NaN</td>\n      <td>NaN</td>\n    </tr>\n  </tbody>\n</table>\n<p>1749 rows × 12 columns</p>\n</div>"
     },
     "execution_count": 3,
     "metadata": {},
     "output_type": "execute_result"
    }
   ],
   "source": [
    "event_data_single"
   ]
  },
  {
   "cell_type": "code",
   "execution_count": 4,
   "metadata": {},
   "outputs": [],
   "source": [
    "tracking_single = dh.read_tracking_data(DATA_DIR_single)"
   ]
  },
  {
   "cell_type": "code",
   "execution_count": 5,
   "metadata": {},
   "outputs": [
    {
     "data": {
      "text/plain": "           Timestamp Framecount Match period Match status  \\\n0      1650807000000          0            1            0   \n1      1650807000100        100            1            0   \n2      1650807000200        200            1            0   \n3      1650807000300        300            1            0   \n4      1650807000400        400            1            0   \n...              ...        ...          ...          ...   \n56268  1650813517600    2917600            2            0   \n56269  1650813517700    2917700            2            0   \n56270  1650813517800    2917800            2            0   \n56271  1650813517900    2917900            2            0   \n56272  1650813518000    2918000            2            0   \n\n                                                Column 5  \\\n0      [{'Object type': '0', 'Player id': '13d7ao0j09...   \n1      [{'Object type': '0', 'Player id': '13d7ao0j09...   \n2      [{'Object type': '0', 'Player id': '13d7ao0j09...   \n3      [{'Object type': '0', 'Player id': '13d7ao0j09...   \n4      [{'Object type': '0', 'Player id': '13d7ao0j09...   \n...                                                  ...   \n56268  [{'Object type': '0', 'Player id': '13d7ao0j09...   \n56269  [{'Object type': '0', 'Player id': '13d7ao0j09...   \n56270  [{'Object type': '0', 'Player id': '13d7ao0j09...   \n56271  [{'Object type': '0', 'Player id': '13d7ao0j09...   \n56272  [{'Object type': '0', 'Player id': '13d7ao0j09...   \n\n                    Ball xyz  \n0         [52.4, 32.93, 0.0]  \n1       [52.45, 32.665, 0.0]  \n2          [52.5, 32.4, 0.0]  \n3      [52.565, 32.395, 0.0]  \n4        [52.65, 32.57, 0.0]  \n...                      ...  \n56268    [10.09, 58.46, 0.0]  \n56269    [9.62, 58.315, 0.0]  \n56270     [9.17, 58.18, 0.0]  \n56271   [8.735, 58.045, 0.0]  \n56272     [8.26, 57.78, 0.0]  \n\n[56273 rows x 6 columns]",
      "text/html": "<div>\n<style scoped>\n    .dataframe tbody tr th:only-of-type {\n        vertical-align: middle;\n    }\n\n    .dataframe tbody tr th {\n        vertical-align: top;\n    }\n\n    .dataframe thead th {\n        text-align: right;\n    }\n</style>\n<table border=\"1\" class=\"dataframe\">\n  <thead>\n    <tr style=\"text-align: right;\">\n      <th></th>\n      <th>Timestamp</th>\n      <th>Framecount</th>\n      <th>Match period</th>\n      <th>Match status</th>\n      <th>Column 5</th>\n      <th>Ball xyz</th>\n    </tr>\n  </thead>\n  <tbody>\n    <tr>\n      <th>0</th>\n      <td>1650807000000</td>\n      <td>0</td>\n      <td>1</td>\n      <td>0</td>\n      <td>[{'Object type': '0', 'Player id': '13d7ao0j09...</td>\n      <td>[52.4, 32.93, 0.0]</td>\n    </tr>\n    <tr>\n      <th>1</th>\n      <td>1650807000100</td>\n      <td>100</td>\n      <td>1</td>\n      <td>0</td>\n      <td>[{'Object type': '0', 'Player id': '13d7ao0j09...</td>\n      <td>[52.45, 32.665, 0.0]</td>\n    </tr>\n    <tr>\n      <th>2</th>\n      <td>1650807000200</td>\n      <td>200</td>\n      <td>1</td>\n      <td>0</td>\n      <td>[{'Object type': '0', 'Player id': '13d7ao0j09...</td>\n      <td>[52.5, 32.4, 0.0]</td>\n    </tr>\n    <tr>\n      <th>3</th>\n      <td>1650807000300</td>\n      <td>300</td>\n      <td>1</td>\n      <td>0</td>\n      <td>[{'Object type': '0', 'Player id': '13d7ao0j09...</td>\n      <td>[52.565, 32.395, 0.0]</td>\n    </tr>\n    <tr>\n      <th>4</th>\n      <td>1650807000400</td>\n      <td>400</td>\n      <td>1</td>\n      <td>0</td>\n      <td>[{'Object type': '0', 'Player id': '13d7ao0j09...</td>\n      <td>[52.65, 32.57, 0.0]</td>\n    </tr>\n    <tr>\n      <th>...</th>\n      <td>...</td>\n      <td>...</td>\n      <td>...</td>\n      <td>...</td>\n      <td>...</td>\n      <td>...</td>\n    </tr>\n    <tr>\n      <th>56268</th>\n      <td>1650813517600</td>\n      <td>2917600</td>\n      <td>2</td>\n      <td>0</td>\n      <td>[{'Object type': '0', 'Player id': '13d7ao0j09...</td>\n      <td>[10.09, 58.46, 0.0]</td>\n    </tr>\n    <tr>\n      <th>56269</th>\n      <td>1650813517700</td>\n      <td>2917700</td>\n      <td>2</td>\n      <td>0</td>\n      <td>[{'Object type': '0', 'Player id': '13d7ao0j09...</td>\n      <td>[9.62, 58.315, 0.0]</td>\n    </tr>\n    <tr>\n      <th>56270</th>\n      <td>1650813517800</td>\n      <td>2917800</td>\n      <td>2</td>\n      <td>0</td>\n      <td>[{'Object type': '0', 'Player id': '13d7ao0j09...</td>\n      <td>[9.17, 58.18, 0.0]</td>\n    </tr>\n    <tr>\n      <th>56271</th>\n      <td>1650813517900</td>\n      <td>2917900</td>\n      <td>2</td>\n      <td>0</td>\n      <td>[{'Object type': '0', 'Player id': '13d7ao0j09...</td>\n      <td>[8.735, 58.045, 0.0]</td>\n    </tr>\n    <tr>\n      <th>56272</th>\n      <td>1650813518000</td>\n      <td>2918000</td>\n      <td>2</td>\n      <td>0</td>\n      <td>[{'Object type': '0', 'Player id': '13d7ao0j09...</td>\n      <td>[8.26, 57.78, 0.0]</td>\n    </tr>\n  </tbody>\n</table>\n<p>56273 rows × 6 columns</p>\n</div>"
     },
     "execution_count": 5,
     "metadata": {},
     "output_type": "execute_result"
    }
   ],
   "source": [
    "tracking_single"
   ]
  },
  {
   "cell_type": "code",
   "execution_count": 6,
   "metadata": {},
   "outputs": [
    {
     "name": "stdout",
     "output_type": "stream",
     "text": [
      "Reading file 1...\n",
      "-- Reading event 4\n",
      "-- Reading event 5\n",
      "-- Reading event 8\n",
      "-- Reading event 11\n",
      "-- Reading event 12\n",
      "-- Reading event 13\n",
      "-- Reading event 16\n",
      "-- Reading event 17\n",
      "-- Reading event 19\n",
      "-- Reading event 21\n",
      "-- Reading event 25\n",
      "-- Reading event 26\n",
      "-- Reading event 28\n",
      "-- Reading event 29\n",
      "-- Reading event 35\n",
      "-- Reading event 38\n"
     ]
    },
    {
     "ename": "KeyboardInterrupt",
     "evalue": "",
     "output_type": "error",
     "traceback": [
      "\u001B[0;31m---------------------------------------------------------------------------\u001B[0m",
      "\u001B[0;31mKeyboardInterrupt\u001B[0m                         Traceback (most recent call last)",
      "Cell \u001B[0;32mIn [6], line 1\u001B[0m\n\u001B[0;32m----> 1\u001B[0m data \u001B[38;5;241m=\u001B[39m \u001B[43mdh\u001B[49m\u001B[38;5;241;43m.\u001B[39;49m\u001B[43mread_event_tracking_data\u001B[49m\u001B[43m(\u001B[49m\u001B[43mDATA_DIR\u001B[49m\u001B[43m,\u001B[49m\u001B[43m \u001B[49m\u001B[43mFIELD_DIMEN\u001B[49m\u001B[43m)\u001B[49m\n",
      "File \u001B[0;32m~/Documents/KULeuven/thesis/Soccer-EPV-Framework/src/data_handler.py:172\u001B[0m, in \u001B[0;36mread_event_tracking_data\u001B[0;34m(DATA_DIR, field_dimen, fps)\u001B[0m\n\u001B[1;32m    169\u001B[0m attacking_team \u001B[38;5;241m=\u001B[39m get_attacking_team(pass_event, row)\n\u001B[1;32m    171\u001B[0m row \u001B[38;5;241m=\u001B[39m spf\u001B[38;5;241m.\u001B[39mcalc_spatial_features(row, index, tracking_data)\n\u001B[0;32m--> 172\u001B[0m game_state_rep \u001B[38;5;241m=\u001B[39m \u001B[43mgsr\u001B[49m\u001B[38;5;241;43m.\u001B[39;49m\u001B[43mget_game_state_representation\u001B[49m\u001B[43m(\u001B[49m\u001B[43mrow\u001B[49m\u001B[43m,\u001B[49m\u001B[43m \u001B[49m\u001B[43mattacking_team\u001B[49m\u001B[43m,\u001B[49m\u001B[43m \u001B[49m\u001B[43mfield_dimen\u001B[49m\u001B[43m)\u001B[49m\n\u001B[1;32m    174\u001B[0m outcome \u001B[38;5;241m=\u001B[39m pass_event[\u001B[38;5;124m'\u001B[39m\u001B[38;5;124moutcome\u001B[39m\u001B[38;5;124m'\u001B[39m]\n\u001B[1;32m    176\u001B[0m pass_event \u001B[38;5;241m=\u001B[39m pass_event\u001B[38;5;241m.\u001B[39mdrop(\n\u001B[1;32m    177\u001B[0m     [\u001B[38;5;124m'\u001B[39m\u001B[38;5;124mtypeId\u001B[39m\u001B[38;5;124m'\u001B[39m, \u001B[38;5;124m'\u001B[39m\u001B[38;5;124mperiodId\u001B[39m\u001B[38;5;124m'\u001B[39m, \u001B[38;5;124m'\u001B[39m\u001B[38;5;124mtimeMin\u001B[39m\u001B[38;5;124m'\u001B[39m, \u001B[38;5;124m'\u001B[39m\u001B[38;5;124mtimeSec\u001B[39m\u001B[38;5;124m'\u001B[39m, \u001B[38;5;124m'\u001B[39m\u001B[38;5;124mplayerId\u001B[39m\u001B[38;5;124m'\u001B[39m, \u001B[38;5;124m'\u001B[39m\u001B[38;5;124mplayerName\u001B[39m\u001B[38;5;124m'\u001B[39m, \u001B[38;5;124m'\u001B[39m\u001B[38;5;124moutcome\u001B[39m\u001B[38;5;124m'\u001B[39m, \u001B[38;5;124m'\u001B[39m\u001B[38;5;124massist\u001B[39m\u001B[38;5;124m'\u001B[39m, \u001B[38;5;124m'\u001B[39m\u001B[38;5;124mkeyPass\u001B[39m\u001B[38;5;124m'\u001B[39m])\n",
      "File \u001B[0;32m~/Documents/KULeuven/thesis/Soccer-EPV-Framework/src/game_state_representation.py:168\u001B[0m, in \u001B[0;36mget_game_state_representation\u001B[0;34m(row, attacking_team, field_dimen)\u001B[0m\n\u001B[1;32m    166\u001B[0m \u001B[38;5;28;01mdef\u001B[39;00m \u001B[38;5;21mget_game_state_representation\u001B[39m(row, attacking_team, field_dimen):\n\u001B[1;32m    167\u001B[0m     loc_att, loc_def, vx_att, vx_def, vy_att, vy_def, cos_angle, sin_angle \u001B[38;5;241m=\u001B[39m get_sparse_matrices(row, attacking_team, field_dimen)\n\u001B[0;32m--> 168\u001B[0m     dist_b, dist_g, angle_ball, angle_goal, angle_goal_rad \u001B[38;5;241m=\u001B[39m \u001B[43mget_dense_matrices\u001B[49m\u001B[43m(\u001B[49m\u001B[43mrow\u001B[49m\u001B[43m,\u001B[49m\u001B[43m \u001B[49m\u001B[43mfield_dimen\u001B[49m\u001B[43m)\u001B[49m\n\u001B[1;32m    170\u001B[0m     \u001B[38;5;28;01mreturn\u001B[39;00m [loc_att, loc_def, vx_att, vx_def, vy_att, vy_def, dist_b, dist_g, angle_ball, angle_goal, angle_goal_rad,\n\u001B[1;32m    171\u001B[0m             sin_angle, cos_angle]\n",
      "File \u001B[0;32m~/Documents/KULeuven/thesis/Soccer-EPV-Framework/src/game_state_representation.py:118\u001B[0m, in \u001B[0;36mget_dense_matrices\u001B[0;34m(row, field_dimen)\u001B[0m\n\u001B[1;32m    115\u001B[0m angle_ball[x, y] \u001B[38;5;241m=\u001B[39m [sin_ball, cos_ball]\n\u001B[1;32m    117\u001B[0m cos_goal \u001B[38;5;241m=\u001B[39m get_cosine_angle(a, goal_xy)\n\u001B[0;32m--> 118\u001B[0m sin_goal \u001B[38;5;241m=\u001B[39m \u001B[43mget_sine_angle\u001B[49m\u001B[43m(\u001B[49m\u001B[43ma\u001B[49m\u001B[43m,\u001B[49m\u001B[43m \u001B[49m\u001B[43mgoal_xy\u001B[49m\u001B[43m)\u001B[49m\n\u001B[1;32m    119\u001B[0m angle_goal[x, y] \u001B[38;5;241m=\u001B[39m [sin_goal, cos_goal]\n\u001B[1;32m    121\u001B[0m angle_goal_rad[x, y] \u001B[38;5;241m=\u001B[39m get_angle_rad(a, goal_xy)\n",
      "File \u001B[0;32m~/Documents/KULeuven/thesis/Soccer-EPV-Framework/src/game_state_representation.py:136\u001B[0m, in \u001B[0;36mget_sine_angle\u001B[0;34m(vec1, vec2)\u001B[0m\n\u001B[1;32m    135\u001B[0m \u001B[38;5;28;01mdef\u001B[39;00m \u001B[38;5;21mget_sine_angle\u001B[39m(vec1, vec2):\n\u001B[0;32m--> 136\u001B[0m     cross \u001B[38;5;241m=\u001B[39m \u001B[43mnp\u001B[49m\u001B[38;5;241;43m.\u001B[39;49m\u001B[43mcross\u001B[49m\u001B[43m(\u001B[49m\u001B[43mvec1\u001B[49m\u001B[43m,\u001B[49m\u001B[43m \u001B[49m\u001B[43mvec2\u001B[49m\u001B[43m)\u001B[49m\n\u001B[1;32m    137\u001B[0m     cross_norm \u001B[38;5;241m=\u001B[39m np\u001B[38;5;241m.\u001B[39mlinalg\u001B[38;5;241m.\u001B[39mnorm(cross)\n\u001B[1;32m    138\u001B[0m     vec1_mag \u001B[38;5;241m=\u001B[39m np\u001B[38;5;241m.\u001B[39mlinalg\u001B[38;5;241m.\u001B[39mnorm(vec1)\n",
      "File \u001B[0;32m<__array_function__ internals>:180\u001B[0m, in \u001B[0;36mcross\u001B[0;34m(*args, **kwargs)\u001B[0m\n",
      "File \u001B[0;32m~/.pyenv/versions/3.10.3/lib/python3.10/site-packages/numpy/core/numeric.py:1608\u001B[0m, in \u001B[0;36mcross\u001B[0;34m(a, b, axisa, axisb, axisc, axis)\u001B[0m\n\u001B[1;32m   1605\u001B[0m axisb \u001B[38;5;241m=\u001B[39m normalize_axis_index(axisb, b\u001B[38;5;241m.\u001B[39mndim, msg_prefix\u001B[38;5;241m=\u001B[39m\u001B[38;5;124m'\u001B[39m\u001B[38;5;124maxisb\u001B[39m\u001B[38;5;124m'\u001B[39m)\n\u001B[1;32m   1607\u001B[0m \u001B[38;5;66;03m# Move working axis to the end of the shape\u001B[39;00m\n\u001B[0;32m-> 1608\u001B[0m a \u001B[38;5;241m=\u001B[39m \u001B[43mmoveaxis\u001B[49m\u001B[43m(\u001B[49m\u001B[43ma\u001B[49m\u001B[43m,\u001B[49m\u001B[43m \u001B[49m\u001B[43maxisa\u001B[49m\u001B[43m,\u001B[49m\u001B[43m \u001B[49m\u001B[38;5;241;43m-\u001B[39;49m\u001B[38;5;241;43m1\u001B[39;49m\u001B[43m)\u001B[49m\n\u001B[1;32m   1609\u001B[0m b \u001B[38;5;241m=\u001B[39m moveaxis(b, axisb, \u001B[38;5;241m-\u001B[39m\u001B[38;5;241m1\u001B[39m)\n\u001B[1;32m   1610\u001B[0m msg \u001B[38;5;241m=\u001B[39m (\u001B[38;5;124m\"\u001B[39m\u001B[38;5;124mincompatible dimensions for cross product\u001B[39m\u001B[38;5;130;01m\\n\u001B[39;00m\u001B[38;5;124m\"\u001B[39m\n\u001B[1;32m   1611\u001B[0m        \u001B[38;5;124m\"\u001B[39m\u001B[38;5;124m(dimension must be 2 or 3)\u001B[39m\u001B[38;5;124m\"\u001B[39m)\n",
      "File \u001B[0;32m<__array_function__ internals>:180\u001B[0m, in \u001B[0;36mmoveaxis\u001B[0;34m(*args, **kwargs)\u001B[0m\n",
      "File \u001B[0;32m~/.pyenv/versions/3.10.3/lib/python3.10/site-packages/numpy/core/numeric.py:1466\u001B[0m, in \u001B[0;36mmoveaxis\u001B[0;34m(a, source, destination)\u001B[0m\n\u001B[1;32m   1463\u001B[0m     a \u001B[38;5;241m=\u001B[39m asarray(a)\n\u001B[1;32m   1464\u001B[0m     transpose \u001B[38;5;241m=\u001B[39m a\u001B[38;5;241m.\u001B[39mtranspose\n\u001B[0;32m-> 1466\u001B[0m source \u001B[38;5;241m=\u001B[39m \u001B[43mnormalize_axis_tuple\u001B[49m\u001B[43m(\u001B[49m\u001B[43msource\u001B[49m\u001B[43m,\u001B[49m\u001B[43m \u001B[49m\u001B[43ma\u001B[49m\u001B[38;5;241;43m.\u001B[39;49m\u001B[43mndim\u001B[49m\u001B[43m,\u001B[49m\u001B[43m \u001B[49m\u001B[38;5;124;43m'\u001B[39;49m\u001B[38;5;124;43msource\u001B[39;49m\u001B[38;5;124;43m'\u001B[39;49m\u001B[43m)\u001B[49m\n\u001B[1;32m   1467\u001B[0m destination \u001B[38;5;241m=\u001B[39m normalize_axis_tuple(destination, a\u001B[38;5;241m.\u001B[39mndim, \u001B[38;5;124m'\u001B[39m\u001B[38;5;124mdestination\u001B[39m\u001B[38;5;124m'\u001B[39m)\n\u001B[1;32m   1468\u001B[0m \u001B[38;5;28;01mif\u001B[39;00m \u001B[38;5;28mlen\u001B[39m(source) \u001B[38;5;241m!=\u001B[39m \u001B[38;5;28mlen\u001B[39m(destination):\n",
      "File \u001B[0;32m~/.pyenv/versions/3.10.3/lib/python3.10/site-packages/numpy/core/numeric.py:1397\u001B[0m, in \u001B[0;36mnormalize_axis_tuple\u001B[0;34m(axis, ndim, argname, allow_duplicate)\u001B[0m\n\u001B[1;32m   1395\u001B[0m         \u001B[38;5;28;01mpass\u001B[39;00m\n\u001B[1;32m   1396\u001B[0m \u001B[38;5;66;03m# Going via an iterator directly is slower than via list comprehension.\u001B[39;00m\n\u001B[0;32m-> 1397\u001B[0m axis \u001B[38;5;241m=\u001B[39m \u001B[38;5;28mtuple\u001B[39m([normalize_axis_index(ax, ndim, argname) \u001B[38;5;28;01mfor\u001B[39;00m ax \u001B[38;5;129;01min\u001B[39;00m axis])\n\u001B[1;32m   1398\u001B[0m \u001B[38;5;28;01mif\u001B[39;00m \u001B[38;5;129;01mnot\u001B[39;00m allow_duplicate \u001B[38;5;129;01mand\u001B[39;00m \u001B[38;5;28mlen\u001B[39m(\u001B[38;5;28mset\u001B[39m(axis)) \u001B[38;5;241m!=\u001B[39m \u001B[38;5;28mlen\u001B[39m(axis):\n\u001B[1;32m   1399\u001B[0m     \u001B[38;5;28;01mif\u001B[39;00m argname:\n",
      "File \u001B[0;32m~/.pyenv/versions/3.10.3/lib/python3.10/site-packages/numpy/core/numeric.py:1397\u001B[0m, in \u001B[0;36m<listcomp>\u001B[0;34m(.0)\u001B[0m\n\u001B[1;32m   1395\u001B[0m         \u001B[38;5;28;01mpass\u001B[39;00m\n\u001B[1;32m   1396\u001B[0m \u001B[38;5;66;03m# Going via an iterator directly is slower than via list comprehension.\u001B[39;00m\n\u001B[0;32m-> 1397\u001B[0m axis \u001B[38;5;241m=\u001B[39m \u001B[38;5;28mtuple\u001B[39m([\u001B[43mnormalize_axis_index\u001B[49m\u001B[43m(\u001B[49m\u001B[43max\u001B[49m\u001B[43m,\u001B[49m\u001B[43m \u001B[49m\u001B[43mndim\u001B[49m\u001B[43m,\u001B[49m\u001B[43m \u001B[49m\u001B[43margname\u001B[49m\u001B[43m)\u001B[49m \u001B[38;5;28;01mfor\u001B[39;00m ax \u001B[38;5;129;01min\u001B[39;00m axis])\n\u001B[1;32m   1398\u001B[0m \u001B[38;5;28;01mif\u001B[39;00m \u001B[38;5;129;01mnot\u001B[39;00m allow_duplicate \u001B[38;5;129;01mand\u001B[39;00m \u001B[38;5;28mlen\u001B[39m(\u001B[38;5;28mset\u001B[39m(axis)) \u001B[38;5;241m!=\u001B[39m \u001B[38;5;28mlen\u001B[39m(axis):\n\u001B[1;32m   1399\u001B[0m     \u001B[38;5;28;01mif\u001B[39;00m argname:\n",
      "\u001B[0;31mKeyboardInterrupt\u001B[0m: "
     ]
    }
   ],
   "source": [
    "data = dh.read_event_tracking_data(DATA_DIR, FIELD_DIMEN)"
   ]
  }
 ],
 "metadata": {
  "kernelspec": {
   "name": "pycharm-200b6fb9",
   "language": "python",
   "display_name": "PyCharm (Soccer-EPV-Framework)"
  },
  "language_info": {
   "codemirror_mode": {
    "name": "ipython",
    "version": 3
   },
   "file_extension": ".py",
   "mimetype": "text/x-python",
   "name": "python",
   "nbconvert_exporter": "python",
   "pygments_lexer": "ipython3",
   "version": "3.10.3"
  },
  "orig_nbformat": 4,
  "vscode": {
   "interpreter": {
    "hash": "f8ce93ba127ce25426a46bd4a35f5ae187ffda733b6f9868eee817a380c94377"
   }
  }
 },
 "nbformat": 4,
 "nbformat_minor": 2
}